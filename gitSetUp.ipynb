{
 "cells": [
  {
   "cell_type": "markdown",
   "id": "e8144b98-79c9-4cde-af54-e59b38b2626b",
   "metadata": {},
   "source": [
    "# Initlise and Create Readme File"
   ]
  },
  {
   "cell_type": "code",
   "execution_count": 1,
   "id": "d0fa28b2-2bc7-4c80-b839-9c8e55c561d5",
   "metadata": {},
   "outputs": [
    {
     "name": "stdout",
     "output_type": "stream",
     "text": [
      "Reinitialized existing Git repository in /Users/mayankjha/Desktop/M.Tech/Sem 1/SL/Project/project/netra/main/.git/\n"
     ]
    }
   ],
   "source": [
    "!git init"
   ]
  },
  {
   "cell_type": "code",
   "execution_count": 3,
   "id": "9b971117-98f3-410a-b9d4-ea10a175fc6f",
   "metadata": {},
   "outputs": [],
   "source": [
    "!echo \"The project is going to perform web scraping from various news websites and then display the news in different categories.\" > README.txt"
   ]
  },
  {
   "cell_type": "code",
   "execution_count": 4,
   "id": "8b3b55da-2c4d-4cba-bc84-09f255eada18",
   "metadata": {},
   "outputs": [
    {
     "name": "stdout",
     "output_type": "stream",
     "text": [
      "On branch main\n",
      "\n",
      "No commits yet\n",
      "\n",
      "Untracked files:\n",
      "  (use \"git add <file>...\" to include in what will be committed)\n",
      "\t\u001b[31m.ipynb_checkpoints/\u001b[m\n",
      "\t\u001b[31mREADME.txt\u001b[m\n",
      "\t\u001b[31mgitSetUp.ipynb\u001b[m\n",
      "\n",
      "nothing added to commit but untracked files present (use \"git add\" to track)\n"
     ]
    }
   ],
   "source": [
    "!git status"
   ]
  },
  {
   "cell_type": "markdown",
   "id": "ac9d343c-df34-49d7-82ff-ede97a69f75d",
   "metadata": {},
   "source": [
    "# Add and Commit the Readme File"
   ]
  },
  {
   "cell_type": "code",
   "execution_count": 5,
   "id": "4143ce98-215a-4d65-9a4b-1e43b417ffdb",
   "metadata": {},
   "outputs": [],
   "source": [
    "!git add ."
   ]
  },
  {
   "cell_type": "code",
   "execution_count": 6,
   "id": "1c6cb83b-3461-4cef-8dc0-ca60527b13cc",
   "metadata": {},
   "outputs": [
    {
     "name": "stdout",
     "output_type": "stream",
     "text": [
      "[main (root-commit) 780ae1e] First Commit\n",
      " 3 files changed, 184 insertions(+)\n",
      " create mode 100644 .ipynb_checkpoints/gitSetUp-checkpoint.ipynb\n",
      " create mode 100644 README.txt\n",
      " create mode 100644 gitSetUp.ipynb\n"
     ]
    }
   ],
   "source": [
    "!git commit -m \"First Commit\""
   ]
  },
  {
   "cell_type": "code",
   "execution_count": 7,
   "id": "1324fbfa-96cd-4df9-8118-f467cdebfc88",
   "metadata": {},
   "outputs": [
    {
     "name": "stdout",
     "output_type": "stream",
     "text": [
      "On branch main\n",
      "nothing to commit, working tree clean\n"
     ]
    }
   ],
   "source": [
    "!git status"
   ]
  },
  {
   "cell_type": "markdown",
   "id": "b929df28-8ecf-46ed-a759-922713c786c2",
   "metadata": {},
   "source": [
    "# Add the Github Repo"
   ]
  },
  {
   "cell_type": "code",
   "execution_count": 8,
   "id": "af2c02e6-bab1-41c6-a86a-9def29727f65",
   "metadata": {},
   "outputs": [],
   "source": [
    "!git remote add origin https://github.com/mayank2309jha/Netra_NewsApp.git"
   ]
  },
  {
   "cell_type": "code",
   "execution_count": 9,
   "id": "e48332ad-e9f9-45e5-bac4-a8b3732d0788",
   "metadata": {},
   "outputs": [
    {
     "name": "stdout",
     "output_type": "stream",
     "text": [
      "origin\thttps://github.com/mayank2309jha/Netra_NewsApp.git (fetch)\n",
      "origin\thttps://github.com/mayank2309jha/Netra_NewsApp.git (push)\n"
     ]
    }
   ],
   "source": [
    "!git remote -v"
   ]
  },
  {
   "cell_type": "code",
   "execution_count": 10,
   "id": "fdf1f0c1-6a0d-47a5-b5ea-f88830c4ba30",
   "metadata": {},
   "outputs": [
    {
     "name": "stdout",
     "output_type": "stream",
     "text": [
      "* \u001b[32mmain\u001b[m\n"
     ]
    }
   ],
   "source": [
    "!git branch"
   ]
  },
  {
   "cell_type": "code",
   "execution_count": 11,
   "id": "e096d70a-2db6-4c04-96bf-468516b530df",
   "metadata": {},
   "outputs": [],
   "source": [
    "!git branch -M main"
   ]
  },
  {
   "cell_type": "markdown",
   "id": "e2d31b18-570d-4b0f-9bab-54cfcde02c78",
   "metadata": {},
   "source": [
    "# Push the commits to the github repo"
   ]
  },
  {
   "cell_type": "code",
   "execution_count": 12,
   "id": "3a2f7497-38dd-4c6e-8e5b-b20b05963f5f",
   "metadata": {},
   "outputs": [
    {
     "name": "stdout",
     "output_type": "stream",
     "text": [
      "Enumerating objects: 6, done.\n",
      "Counting objects: 100% (6/6), done.\n",
      "Delta compression using up to 8 threads\n",
      "Compressing objects: 100% (6/6), done.\n",
      "Writing objects: 100% (6/6), 1.62 KiB | 1.62 MiB/s, done.\n",
      "Total 6 (delta 0), reused 0 (delta 0), pack-reused 0\n",
      "To https://github.com/mayank2309jha/Netra_NewsApp.git\n",
      " * [new branch]      main -> main\n",
      "branch 'main' set up to track 'origin/main'.\n"
     ]
    }
   ],
   "source": [
    "!git push -u origin main"
   ]
  },
  {
   "cell_type": "markdown",
   "id": "c0194db2-bf28-4e34-9533-9d158ceb05d2",
   "metadata": {},
   "source": [
    "# Make new directories to be added to the github repository"
   ]
  },
  {
   "cell_type": "code",
   "execution_count": 15,
   "id": "5806c8d7-caba-40cd-b38c-2f3326bee0c6",
   "metadata": {},
   "outputs": [
    {
     "name": "stdout",
     "output_type": "stream",
     "text": [
      "mkdir: frontend-repo: File exists\n",
      "mkdir: backend-repo: File exists\n",
      "mkdir: webscrapper-repo: File exists\n"
     ]
    }
   ],
   "source": [
    "!mkdir frontend-repo backend-repo webscrapper-repo"
   ]
  },
  {
   "cell_type": "code",
   "execution_count": 20,
   "id": "0f0865c5-fce2-4426-84c5-1b284877f31b",
   "metadata": {},
   "outputs": [],
   "source": [
    "!echo \"\" > frontend-repo/.gitkeep\n",
    "!echo \"\" > backend-repo/.gitkeep\n",
    "!echo \"\" > webscrapper-repo/.gitkeep"
   ]
  },
  {
   "cell_type": "code",
   "execution_count": 21,
   "id": "92828d90-f69c-43ab-a9e6-cb28400a2d2b",
   "metadata": {},
   "outputs": [
    {
     "name": "stdout",
     "output_type": "stream",
     "text": [
      "On branch main\n",
      "Your branch is up to date with 'origin/main'.\n",
      "\n",
      "Changes not staged for commit:\n",
      "  (use \"git add <file>...\" to update what will be committed)\n",
      "  (use \"git restore <file>...\" to discard changes in working directory)\n",
      "\t\u001b[31mmodified:   gitSetUp.ipynb\u001b[m\n",
      "\n",
      "Untracked files:\n",
      "  (use \"git add <file>...\" to include in what will be committed)\n",
      "\t\u001b[31mbackend-repo/\u001b[m\n",
      "\t\u001b[31mfrontend-repo/\u001b[m\n",
      "\t\u001b[31mwebscrapper-repo/\u001b[m\n",
      "\n",
      "no changes added to commit (use \"git add\" and/or \"git commit -a\")\n"
     ]
    }
   ],
   "source": [
    "!git status"
   ]
  },
  {
   "cell_type": "code",
   "execution_count": 22,
   "id": "69360831-635e-4b76-bfbc-4a34fb796e91",
   "metadata": {},
   "outputs": [
    {
     "name": "stdout",
     "output_type": "stream",
     "text": [
      "[main 611fb0d] Added Directories\n",
      " 4 files changed, 37 insertions(+), 6 deletions(-)\n",
      " create mode 100644 backend-repo/.gitkeep\n",
      " create mode 100644 frontend-repo/.gitkeep\n",
      " create mode 100644 webscrapper-repo/.gitkeep\n",
      "Enumerating objects: 7, done.\n",
      "Counting objects: 100% (7/7), done.\n",
      "Delta compression using up to 8 threads\n",
      "Compressing objects: 100% (3/3), done.\n",
      "Writing objects: 100% (5/5), 811 bytes | 811.00 KiB/s, done.\n",
      "Total 5 (delta 1), reused 0 (delta 0), pack-reused 0\n",
      "remote: Resolving deltas: 100% (1/1), completed with 1 local object.\u001b[K\n",
      "To https://github.com/mayank2309jha/Netra_NewsApp.git\n",
      "   b83da62..611fb0d  main -> main\n"
     ]
    }
   ],
   "source": [
    "!git add .\n",
    "!git commit -m \"Added Directories\"\n",
    "!git push"
   ]
  },
  {
   "cell_type": "markdown",
   "id": "6d53d1b9-e863-485b-92e5-d5bb725e43d5",
   "metadata": {},
   "source": [
    "# To pull the changes from the github repository to the local git"
   ]
  },
  {
   "cell_type": "code",
   "execution_count": 6,
   "id": "e724cbff-c6d3-4ab9-ab15-b64510962ba7",
   "metadata": {},
   "outputs": [
    {
     "name": "stdout",
     "output_type": "stream",
     "text": [
      "From https://github.com/mayank2309jha/Netra_NewsApp\n",
      " * branch            main       -> FETCH_HEAD\n",
      "Already up to date.\n"
     ]
    }
   ],
   "source": [
    "!git pull origin main"
   ]
  },
  {
   "cell_type": "markdown",
   "id": "6c4e6924-c8e5-4852-b871-59279f52add8",
   "metadata": {},
   "source": [
    "# To see all the branches & All the Commits by log"
   ]
  },
  {
   "cell_type": "code",
   "execution_count": 4,
   "id": "98541629-5518-49bf-8b46-fe1a67a149a0",
   "metadata": {},
   "outputs": [
    {
     "name": "stdout",
     "output_type": "stream",
     "text": [
      "* \u001b[32mmain\u001b[m\n",
      "  \u001b[31mremotes/origin/main\u001b[m\n"
     ]
    }
   ],
   "source": [
    "!git branch -a"
   ]
  },
  {
   "cell_type": "code",
   "execution_count": 5,
   "id": "2cfb87aa-f4d5-4e64-a0c4-1082af0a2fef",
   "metadata": {},
   "outputs": [
    {
     "name": "stdout",
     "output_type": "stream",
     "text": [
      "\u001b[33mcommit 6008cc6f84f7b8321d1bcd95c91ab2517ba0a1d7\u001b[m\u001b[33m (\u001b[m\u001b[1;36mHEAD -> \u001b[m\u001b[1;32mmain\u001b[m\u001b[33m, \u001b[m\u001b[1;31morigin/main\u001b[m\u001b[33m)\u001b[m\n",
      "Author: Hemal Kisku <iamhkk257@gmail.com>\n",
      "Date:   Tue Sep 30 15:10:28 2025 +0000\n",
      "\n",
      "    Deleted README.md\n",
      "\n",
      "\u001b[33mcommit 732fcd1cb040f2bc4e11aad67009f12c61ff31ba\u001b[m\n",
      "Author: Hemal Kisku <iamhkk257@gmail.com>\n",
      "Date:   Tue Sep 30 15:08:38 2025 +0000\n",
      "\n",
      "    Updated README.txt\n",
      "\n",
      "\u001b[33mcommit f3308865119983a84b6bcaadc91832f952601aba\u001b[m\n",
      "Author: Hemal Kisku <iamhkk257@gmail.com>\n",
      "Date:   Tue Sep 30 14:46:56 2025 +0000\n",
      "\n",
      "    Updated README.md\n",
      "\n",
      "\u001b[33mcommit fd87e7ad54f9021d0d9a339f5dc679e8723ca6ee\u001b[m\n",
      "Author: Hemal Kisku <iamhkk257@gmail.com>\n",
      "Date:   Tue Sep 30 14:43:14 2025 +0000\n",
      "\n",
      "    Deleted README\n",
      "\n",
      "\u001b[33mcommit 3ee04cea32fde2dc3a803fc3d35a439b4ee2c0f9\u001b[m\n",
      "Author: Hemal Kisku <iamhkk257@gmail.com>\n",
      "Date:   Tue Sep 30 14:41:27 2025 +0000\n",
      "\n",
      "    Updated the README\n",
      "\n",
      "\u001b[33mcommit c10c56af38e6743ab688e8221d231463a190bfe5\u001b[m\n",
      "Author: Hemal Kisku <iamhkk257@gmail.com>\n",
      "Date:   Tue Sep 30 14:37:39 2025 +0000\n",
      "\n",
      "    Update README with upcoming features\n",
      "\n",
      "\u001b[33mcommit a47873ac0bc8b6c5d2654efa5e5f7395311f5a5d\u001b[m\n",
      "Author: Hemal Kisku <iamhkk257@gmail.com>\n",
      "Date:   Tue Sep 30 14:26:27 2025 +0000\n",
      "\n",
      "    Testing\n",
      "\n",
      "\u001b[33mcommit a75a99ab1de257e18cc18ee7f61c1cd7cd367628\u001b[m\n",
      "Author: Batman <iamhkk257@gmail.com>\n",
      "Date:   Tue Sep 30 14:20:25 2025 +0000\n",
      "\n",
      "    Added demo scrape.py\n",
      "\n",
      "\u001b[33mcommit 611fb0db9c59db48f2fba97ffc295e87eee17b28\u001b[m\n",
      "Author: Mayank Jha <mjzeus1729@gmail.com>\n",
      "Date:   Tue Sep 30 13:37:01 2025 +0530\n",
      "\n",
      "    Added Directories\n",
      "\n",
      "\u001b[33mcommit b83da62aed44fc65239dccc2521933f29351b275\u001b[m\n",
      "Author: Mayank Jha <mjzeus1729@gmail.com>\n",
      "Date:   Tue Sep 30 13:33:35 2025 +0530\n",
      "\n",
      "    Added Directories\n",
      "\n",
      "\u001b[33mcommit 780ae1e8dfaa83dee7cad6fde9dc4261ec4bfe92\u001b[m\n",
      "Author: Mayank Jha <mjzeus1729@gmail.com>\n",
      "Date:   Tue Sep 30 13:15:00 2025 +0530\n",
      "\n",
      "    First Commit\n"
     ]
    }
   ],
   "source": [
    "!git log"
   ]
  },
  {
   "cell_type": "code",
   "execution_count": 7,
   "id": "8461c7cf-00ac-479b-8f82-bdd20888f73a",
   "metadata": {},
   "outputs": [
    {
     "name": "stdout",
     "output_type": "stream",
     "text": [
      " #Netra NewsApp\n",
      "    The project is going to perform web scraping from various news websites and then display the news in different categories.\n",
      "\n",
      "#Upcoming Features\n",
      "    Quiz section (news-related quizzes)\n",
      "    Poll section\n"
     ]
    }
   ],
   "source": [
    "!cat README.txt"
   ]
  },
  {
   "cell_type": "code",
   "execution_count": null,
   "id": "0e2cfdcd-6b71-4fb0-9960-22d278ad9c4c",
   "metadata": {},
   "outputs": [],
   "source": []
  },
  {
   "cell_type": "code",
   "execution_count": null,
   "id": "f8d37a8d-574b-47ad-a17a-2beea4e6d765",
   "metadata": {},
   "outputs": [],
   "source": []
  },
  {
   "cell_type": "code",
   "execution_count": null,
   "id": "b15e95c3-0fef-4507-9224-028ad22f0761",
   "metadata": {},
   "outputs": [],
   "source": []
  },
  {
   "cell_type": "code",
   "execution_count": null,
   "id": "9c1f7800-bf78-4c4f-bd77-5ea4eb587cc4",
   "metadata": {},
   "outputs": [],
   "source": []
  }
 ],
 "metadata": {
  "kernelspec": {
   "display_name": "Python 3 (ipykernel)",
   "language": "python",
   "name": "python3"
  },
  "language_info": {
   "codemirror_mode": {
    "name": "ipython",
    "version": 3
   },
   "file_extension": ".py",
   "mimetype": "text/x-python",
   "name": "python",
   "nbconvert_exporter": "python",
   "pygments_lexer": "ipython3",
   "version": "3.11.7"
  }
 },
 "nbformat": 4,
 "nbformat_minor": 5
}
