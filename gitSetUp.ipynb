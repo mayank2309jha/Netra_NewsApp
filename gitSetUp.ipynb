{
 "cells": [
  {
   "cell_type": "code",
   "execution_count": 1,
   "id": "d0fa28b2-2bc7-4c80-b839-9c8e55c561d5",
   "metadata": {},
   "outputs": [
    {
     "name": "stdout",
     "output_type": "stream",
     "text": [
      "Reinitialized existing Git repository in /Users/mayankjha/Desktop/M.Tech/Sem 1/SL/Project/project/netra/main/.git/\n"
     ]
    }
   ],
   "source": [
    "!git init"
   ]
  },
  {
   "cell_type": "code",
   "execution_count": 3,
   "id": "9b971117-98f3-410a-b9d4-ea10a175fc6f",
   "metadata": {},
   "outputs": [],
   "source": [
    "!echo \"The project is going to perform web scraping from various news websites and then display the news in different categories.\" > README.txt"
   ]
  },
  {
   "cell_type": "code",
   "execution_count": 4,
   "id": "8b3b55da-2c4d-4cba-bc84-09f255eada18",
   "metadata": {},
   "outputs": [
    {
     "name": "stdout",
     "output_type": "stream",
     "text": [
      "On branch main\n",
      "\n",
      "No commits yet\n",
      "\n",
      "Untracked files:\n",
      "  (use \"git add <file>...\" to include in what will be committed)\n",
      "\t\u001b[31m.ipynb_checkpoints/\u001b[m\n",
      "\t\u001b[31mREADME.txt\u001b[m\n",
      "\t\u001b[31mgitSetUp.ipynb\u001b[m\n",
      "\n",
      "nothing added to commit but untracked files present (use \"git add\" to track)\n"
     ]
    }
   ],
   "source": [
    "!git status"
   ]
  },
  {
   "cell_type": "code",
   "execution_count": 5,
   "id": "4143ce98-215a-4d65-9a4b-1e43b417ffdb",
   "metadata": {},
   "outputs": [],
   "source": [
    "!git add ."
   ]
  },
  {
   "cell_type": "code",
   "execution_count": 6,
   "id": "1c6cb83b-3461-4cef-8dc0-ca60527b13cc",
   "metadata": {},
   "outputs": [
    {
     "name": "stdout",
     "output_type": "stream",
     "text": [
      "[main (root-commit) 780ae1e] First Commit\n",
      " 3 files changed, 184 insertions(+)\n",
      " create mode 100644 .ipynb_checkpoints/gitSetUp-checkpoint.ipynb\n",
      " create mode 100644 README.txt\n",
      " create mode 100644 gitSetUp.ipynb\n"
     ]
    }
   ],
   "source": [
    "!git commit -m \"First Commit\""
   ]
  },
  {
   "cell_type": "code",
   "execution_count": 7,
   "id": "1324fbfa-96cd-4df9-8118-f467cdebfc88",
   "metadata": {},
   "outputs": [
    {
     "name": "stdout",
     "output_type": "stream",
     "text": [
      "On branch main\n",
      "nothing to commit, working tree clean\n"
     ]
    }
   ],
   "source": [
    "!git status"
   ]
  },
  {
   "cell_type": "code",
   "execution_count": 8,
   "id": "af2c02e6-bab1-41c6-a86a-9def29727f65",
   "metadata": {},
   "outputs": [],
   "source": [
    "!git remote add origin https://github.com/mayank2309jha/Netra_NewsApp.git"
   ]
  },
  {
   "cell_type": "code",
   "execution_count": 9,
   "id": "e48332ad-e9f9-45e5-bac4-a8b3732d0788",
   "metadata": {},
   "outputs": [
    {
     "name": "stdout",
     "output_type": "stream",
     "text": [
      "origin\thttps://github.com/mayank2309jha/Netra_NewsApp.git (fetch)\n",
      "origin\thttps://github.com/mayank2309jha/Netra_NewsApp.git (push)\n"
     ]
    }
   ],
   "source": [
    "!git remote -v"
   ]
  },
  {
   "cell_type": "code",
   "execution_count": 10,
   "id": "fdf1f0c1-6a0d-47a5-b5ea-f88830c4ba30",
   "metadata": {},
   "outputs": [
    {
     "name": "stdout",
     "output_type": "stream",
     "text": [
      "* \u001b[32mmain\u001b[m\n"
     ]
    }
   ],
   "source": [
    "!git branch"
   ]
  },
  {
   "cell_type": "code",
   "execution_count": 11,
   "id": "e096d70a-2db6-4c04-96bf-468516b530df",
   "metadata": {},
   "outputs": [],
   "source": [
    "!git branch -M main"
   ]
  },
  {
   "cell_type": "code",
   "execution_count": 12,
   "id": "3a2f7497-38dd-4c6e-8e5b-b20b05963f5f",
   "metadata": {},
   "outputs": [
    {
     "name": "stdout",
     "output_type": "stream",
     "text": [
      "Enumerating objects: 6, done.\n",
      "Counting objects: 100% (6/6), done.\n",
      "Delta compression using up to 8 threads\n",
      "Compressing objects: 100% (6/6), done.\n",
      "Writing objects: 100% (6/6), 1.62 KiB | 1.62 MiB/s, done.\n",
      "Total 6 (delta 0), reused 0 (delta 0), pack-reused 0\n",
      "To https://github.com/mayank2309jha/Netra_NewsApp.git\n",
      " * [new branch]      main -> main\n",
      "branch 'main' set up to track 'origin/main'.\n"
     ]
    }
   ],
   "source": [
    "!git push -u origin main"
   ]
  },
  {
   "cell_type": "code",
   "execution_count": 13,
   "id": "5806c8d7-caba-40cd-b38c-2f3326bee0c6",
   "metadata": {},
   "outputs": [],
   "source": [
    "mkdir frontend-repo backend-repo webscrapper-repo"
   ]
  },
  {
   "cell_type": "code",
   "execution_count": 14,
   "id": "e8631132-b445-487d-9ba5-b10d7e23cd0d",
   "metadata": {},
   "outputs": [
    {
     "name": "stdout",
     "output_type": "stream",
     "text": [
      "On branch main\n",
      "Your branch is up to date with 'origin/main'.\n",
      "\n",
      "Changes not staged for commit:\n",
      "  (use \"git add <file>...\" to update what will be committed)\n",
      "  (use \"git restore <file>...\" to discard changes in working directory)\n",
      "\t\u001b[31mmodified:   gitSetUp.ipynb\u001b[m\n",
      "\n",
      "no changes added to commit (use \"git add\" and/or \"git commit -a\")\n"
     ]
    }
   ],
   "source": [
    "!git status"
   ]
  },
  {
   "cell_type": "code",
   "execution_count": null,
   "id": "da46984e-e35e-4cac-afb0-30f4fce4063c",
   "metadata": {},
   "outputs": [],
   "source": []
  },
  {
   "cell_type": "code",
   "execution_count": null,
   "id": "ff7df8d5-3778-420f-bcf2-f84690431a72",
   "metadata": {},
   "outputs": [],
   "source": []
  }
 ],
 "metadata": {
  "kernelspec": {
   "display_name": "Python 3 (ipykernel)",
   "language": "python",
   "name": "python3"
  },
  "language_info": {
   "codemirror_mode": {
    "name": "ipython",
    "version": 3
   },
   "file_extension": ".py",
   "mimetype": "text/x-python",
   "name": "python",
   "nbconvert_exporter": "python",
   "pygments_lexer": "ipython3",
   "version": "3.11.7"
  }
 },
 "nbformat": 4,
 "nbformat_minor": 5
}
